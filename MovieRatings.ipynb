{
 "cells": [
  {
   "cell_type": "markdown",
   "metadata": {},
   "source": [
    "### Name: Kathryn Zhou\n",
    "### Net ID: yz6956"
   ]
  },
  {
   "cell_type": "markdown",
   "metadata": {},
   "source": [
    "I first loaded the movie rating dataset by using np.genfromtxt(). For data cleaning, I didn't choose to do it at the beginning for the entire dataset, because situations vary for each question and I want to keep as much data as possible. \n",
    "\n",
    "Dimension reduction is necessary for the responses to the questions of “sensation seeking”, \"personality\" and “movie experience”. The way that I handled dimension reduction is by doing PCA (Principal component analysis).\n",
    "\n",
    "Firstly, I got the corresponding columns for each characteristic and removed the nan values for these three arrays.\n",
    "Secondly, to avoid having highly skewed data, I transform the data by using z-scoring.\n",
    "After completing the regular steps of PCA, I used Kaiser criterion (Keep all factors with an eigenvalue > 1) to determine how many factors I should keep for each characteristic.\n",
    "\n",
    "FIGURE"
   ]
  },
  {
   "cell_type": "code",
   "execution_count": 290,
   "metadata": {},
   "outputs": [],
   "source": [
    "# import libraries\n",
    "import numpy as np\n",
    "import pandas as pd\n",
    "import matplotlib.pyplot as plt\n",
    "from scipy import stats\n",
    "from sklearn.decomposition import PCA\n",
    "from sklearn.cluster import KMeans\n",
    "from sklearn.metrics import silhouette_samples\n",
    "from sklearn.linear_model import LinearRegression\n",
    "from sklearn.model_selection import train_test_split\n",
    "from sklearn import metrics"
   ]
  },
  {
   "cell_type": "code",
   "execution_count": 291,
   "metadata": {},
   "outputs": [],
   "source": [
    "data = np.genfromtxt('movieReplicationSet.csv',delimiter=',',skip_header=1) "
   ]
  },
  {
   "cell_type": "code",
   "execution_count": 292,
   "metadata": {},
   "outputs": [
    {
     "name": "stdout",
     "output_type": "stream",
     "text": [
      "Number of sensation seeking factors: 6\n",
      "Number of personality factors: 8\n",
      "Number of movie experience factors: 2\n"
     ]
    }
   ],
   "source": [
    "# PCA\n",
    "s = data[:,range(401,420)] # sensation seeking\n",
    "p = data[:,range(421,464)] # personality\n",
    "e = data[:,range(465,474)] # movie experience\n",
    "\n",
    "s = s[~np.isnan(s).any(axis=1), :]\n",
    "p = p[~np.isnan(p).any(axis=1), :]\n",
    "e = e[~np.isnan(e).any(axis=1), :]\n",
    "\n",
    "# 1. Z-score the data:\n",
    "zs = stats.zscore(s)\n",
    "zp = stats.zscore(p)\n",
    "ze = stats.zscore(e)\n",
    "\n",
    "# 2. Initialize PCA object and fit to our data:\n",
    "pcas = PCA().fit(zs)\n",
    "pcap = PCA().fit(zp)\n",
    "pcae = PCA().fit(ze)\n",
    "\n",
    "# 3a. Eigenvalues: Single vector of eigenvalues in decreasing order of magnitude\n",
    "seigVals = pcas.explained_variance_\n",
    "peigVals = pcap.explained_variance_\n",
    "eeigVals = pcae.explained_variance_\n",
    "\n",
    "# 3b. Loadings (eigenvectors): Weights per factor in terms of the original data. \n",
    "sloadings = pcas.components_\n",
    "ploadings = pcap.components_\n",
    "eloadings = pcae.components_\n",
    "\n",
    "# 3c. Rotated Data\n",
    "srotatedData = pcas.fit_transform(zs)\n",
    "protatedData = pcap.fit_transform(zp)\n",
    "erotatedData = pcae.fit_transform(ze)\n",
    "\n",
    "# 4. For the purposes of this, you can think of eigenvalues in terms of (co)variance explained:\n",
    "scovarExplained = seigVals/sum(seigVals)*100\n",
    "pcovarExplained = peigVals/sum(peigVals)*100\n",
    "ecovarExplained = eeigVals/sum(eeigVals)*100\n",
    "\n",
    "# 1) Kaiser criterion: Keep all factors with an eigenvalue > 1\n",
    "threshold = 1\n",
    "print('Number of sensation seeking factors:', np.count_nonzero(seigVals > threshold))\n",
    "print('Number of personality factors:', np.count_nonzero(peigVals > threshold))\n",
    "print('Number of movie experience factors:', np.count_nonzero(eeigVals > threshold))"
   ]
  },
  {
   "cell_type": "markdown",
   "metadata": {},
   "source": [
    "### Question 1: What is the relationship between sensation seeking and movie experience?"
   ]
  },
  {
   "cell_type": "markdown",
   "metadata": {},
   "source": [
    "Firstly, I got the corresponding columns for \"sensation seeking\" and \"movie experience\", and formed two arrays correspondingly. \n",
    "Secondly, I cleaned the data by removing the rows that contain nan values. Also, to avoid having highly skewed data, I transform the data by using z-scoring. \n",
    "\n",
    "From the PCA that I done seperately for \"sensation seeking\", \"personality\" and \"movie experience\", I've already chosen the number of factors to keep: 6 for sensation seeking and 2 for movie experience.\n",
    "\n",
    "FIGURE\n",
    "\n",
    "To determine the relationship, I computed the correlation of the mean of ses and see, and ploted the graph. The correlation coefficient is 0 and the graph always shows that there isn't significiant relationship between. Therefore, I choose to conclude that there is no relationship between sensation seeking and movie experience.\n",
    "\n",
    "FIGURE"
   ]
  },
  {
   "cell_type": "code",
   "execution_count": 293,
   "metadata": {},
   "outputs": [
    {
     "name": "stdout",
     "output_type": "stream",
     "text": [
      "[[ 1.         -0.04959026]\n",
      " [-0.04959026  1.        ]]\n"
     ]
    },
    {
     "data": {
      "image/png": "[encoded data removed]",
      "text/plain": [
       "<Figure size 432x288 with 1 Axes>"
      ]
     },
     "metadata": {
      "needs_background": "light"
     },
     "output_type": "display_data"
    }
   ],
   "source": [
    "# PCA\n",
    "se = np.hstack((data[:,range(401,420)],data[:,range(465,474)]))\n",
    "se = se[~np.isnan(se).any(axis=1), :]\n",
    "\n",
    "\n",
    "# Z-score the data:\n",
    "ses = stats.zscore(se[:,:19])\n",
    "see = stats.zscore(se[:,-9:])\n",
    "\n",
    "# Initialize PCA object and fit to our data:\n",
    "sespca = PCA().fit(ses)\n",
    "seepca = PCA().fit(see)\n",
    "\n",
    "sesrotatedData = sespca.fit_transform(ses)\n",
    "seerotatedData = seepca.fit_transform(see)\n",
    "\n",
    "ses_major = sesrotatedData[:,:6]\n",
    "see_major = seerotatedData[:,:2]\n",
    "\n",
    "ses_mean = np.mean(ses_major,axis=1)\n",
    "see_mean = np.mean(see_major,axis=1)\n",
    "\n",
    "c1 = np.corrcoef(ses_mean,see_mean)\n",
    "print(c1)\n",
    "\n",
    "plt.plot(ses_mean,see_mean,'o',markersize=3)\n",
    "plt.xlabel(\"sensation seeking\")\n",
    "plt.ylabel(\"movie experience\")\n",
    "plt.show()"
   ]
  },
  {
   "cell_type": "markdown",
   "metadata": {},
   "source": [
    "### Question 2: Is there evidence of personality types based on the data of these research participants? If so, characterize these types both quantitatively and narratively."
   ]
  },
  {
   "cell_type": "markdown",
   "metadata": {},
   "source": [
    "Firstly, I need to reduce dimension for personality. I've done it at the beginning, and chose to keep 8 factors based on Kaiser criterion. \n",
    "\n",
    "FIGURE\n",
    "\n",
    "Secondly, I used the kMeans method to determine the optimal number of clusters of personality, which means the number of personality types. I plotted the Silhouette score for each number of clusters and plotted another graph to make the change of the scores clearer. Finally, I chose the optimal number of clusters should be 2 based on the graph.\n",
    "\n",
    "FIGURE"
   ]
  },
  {
   "cell_type": "code",
   "execution_count": 294,
   "metadata": {},
   "outputs": [],
   "source": [
    "# PCA\n",
    "p = data[:,range(421,464)] # personality\n",
    "p = p[~np.isnan(p).any(axis=1), :]\n",
    "zp = stats.zscore(p)\n",
    "pcap = PCA().fit(zp)\n",
    "protatedData = pcap.fit_transform(zp)\n",
    "x = protatedData[:,:8]"
   ]
  },
  {
   "cell_type": "code",
   "execution_count": 295,
   "metadata": {},
   "outputs": [],
   "source": [
    "p = data[:,range(421,464)] # personality\n",
    "p = p[~np.isnan(p).any(axis=1), :]\n",
    "zp = stats.zscore(p)\n",
    "pcap = PCA().fit(zp)\n",
    "\n",
    "peigVals = pcap.explained_variance_\n",
    "\n",
    "ploadings = pcap.components_\n",
    "\n",
    "protatedData = pcap.fit_transform(zp)\n",
    "\n",
    "pcovarExplained = peigVals/sum(peigVals)*100"
   ]
  },
  {
   "cell_type": "code",
   "execution_count": 286,
   "metadata": {},
   "outputs": [
    {
     "data": {
      "image/png": "[encoded data removed]",
      "text/plain": [
       "<Figure size 432x288 with 1 Axes>"
      ]
     },
     "metadata": {
      "needs_background": "light"
     },
     "output_type": "display_data"
    }
   ],
   "source": [
    "numClasses = 43\n",
    "x = np.linspace(1,numClasses,numClasses)\n",
    "plt.bar(x, peigVals, color='gray')\n",
    "plt.plot([0,numClasses],[1,1],color='orange') # Orange Kaiser criterion line for the fox\n",
    "plt.xlabel('Principal component')\n",
    "plt.ylabel('Eigenvalue')\n",
    "plt.show()"
   ]
  },
  {
   "cell_type": "code",
   "execution_count": 287,
   "metadata": {},
   "outputs": [
    {
     "data": {
      "image/png": "[encoded data removed]",
      "text/plain": [
       "<Figure size 432x288 with 1 Axes>"
      ]
     },
     "metadata": {
      "needs_background": "light"
     },
     "output_type": "display_data"
    },
    {
     "name": "stdout",
     "output_type": "stream",
     "text": [
      "Index(['Tends to find fault with others', 'Does a thorough job',\n",
      "       'Is depressed/Blue', 'Is original/comes up with new ideas',\n",
      "       'Is reserved', 'Is helpful and unselfish with others',\n",
      "       'Can be somewhat careless', 'Is relaxed/handles stress well',\n",
      "       'Is curious about many different things', 'Is full of energy',\n",
      "       'Starts quarrels with others', 'Is a reliable worker', 'Can be tense',\n",
      "       'Is ingenious/a deep thinker', 'Generates a lot of Enthusiasm',\n",
      "       'Has a forgiving nature', 'Tends to be disorganized', 'Worries a lot',\n",
      "       'Has an active imagination', 'Tends to be quiet',\n",
      "       'Is generally trusting', 'Tends to be lazy',\n",
      "       'Is emotionally stable/not easily upset', 'is inventive',\n",
      "       'Has an assertive personality', 'Can be cold and aloof',\n",
      "       'Perseveres until the task is finished', 'Can be moody',\n",
      "       'Values artistic/aesthetic experiences', 'Is sometimes shy/inhibited',\n",
      "       'Is considerate and kind to almost everyone', 'Does things efficiently',\n",
      "       'Remains calm in tense situations', 'Prefers work that is routine',\n",
      "       'is outgoing/sociable', 'Is sometimes rude to others',\n",
      "       'Makes plans and follows through with them', 'Gets nervous easily',\n",
      "       'Likes to reflect/play with ideas', 'Has few artistic interests',\n",
      "       'Likes to cooperate with others', 'Is easily distracted',\n",
      "       'Is sophisticated in art or music or literature'],\n",
      "      dtype='object')\n"
     ]
    }
   ],
   "source": [
    "whichPrincipalComponent = 1 # Select and look at once factor at a time \n",
    "plt.bar(x,ploadings[whichPrincipalComponent,:]*-1) # note: eigVecs multiplied by -1\n",
    "plt.xlabel('Question')\n",
    "plt.ylabel('Loading')\n",
    "plt.show() # Show bar plot\n",
    "\n",
    "datawithtitle = pd.read_csv('movieReplicationSet.csv')\n",
    "questions = datawithtitle.columns[421:464]\n",
    "print(questions) # Display questions"
   ]
  },
  {
   "cell_type": "code",
   "execution_count": 296,
   "metadata": {},
   "outputs": [
    {
     "data": {
      "image/png": "[encoded data removed]",
      "text/plain": [
       "<Figure size 432x288 with 1 Axes>"
      ]
     },
     "metadata": {
      "needs_background": "light"
     },
     "output_type": "display_data"
    }
   ],
   "source": [
    "# Rotated Data - simply the transformed data:\n",
    "origDataNewCoordinates = pcap.fit_transform(zp)*-1\n",
    "\n",
    "\n",
    "plt.plot(origDataNewCoordinates[:,0],origDataNewCoordinates[:,1],'o',markersize=1)\n",
    "plt.xlabel('active imagination/Values artistic/aesthetic experiences')\n",
    "plt.ylabel('reserved/reliable worker/quiet')\n",
    "plt.show()"
   ]
  },
  {
   "cell_type": "code",
   "execution_count": 297,
   "metadata": {},
   "outputs": [],
   "source": [
    "# Init:\n",
    "numClusters = 9 # how many clusters are we looping over? (from 2 to 10)\n",
    "Q = np.empty([numClusters,1])*np.NaN # init container to store sums"
   ]
  },
  {
   "cell_type": "code",
   "execution_count": 298,
   "metadata": {},
   "outputs": [
    {
     "data": {
      "image/png": "[encoded data removed]",
      "text/plain": [
       "<Figure size 432x288 with 9 Axes>"
      ]
     },
     "metadata": {
      "needs_background": "light"
     },
     "output_type": "display_data"
    }
   ],
   "source": [
    "# Compute kMeans:\n",
    "for ii in range(2, 11): # Loop through each cluster (from 2 to 10!)\n",
    "    kMeans = KMeans(n_clusters = int(ii)).fit(x) # compute kmeans using scikit\n",
    "    cId = kMeans.labels_ # vector of cluster IDs that the row belongs to\n",
    "    cCoords = kMeans.cluster_centers_ # coordinate location for center of each cluster\n",
    "    s = silhouette_samples(x,cId) # compute the mean silhouette coefficient of all samples\n",
    "    Q[ii-2] = sum(s) # take the sum\n",
    "    # Plot data:\n",
    "    plt.subplot(3,3,ii-1) \n",
    "    plt.hist(s,bins=20) \n",
    "    plt.xlim(-0.2,1)\n",
    "    plt.ylim(0,250)\n",
    "    plt.xlabel('Silhouette score')\n",
    "    plt.ylabel('Count')\n",
    "    plt.title('Sum: {}'.format(int(Q[ii-2]))) # sum rounded to nearest integer\n",
    "    plt.tight_layout() # adjusts subplot padding"
   ]
  },
  {
   "cell_type": "code",
   "execution_count": 299,
   "metadata": {},
   "outputs": [
    {
     "data": {
      "image/png": "[encoded data removed]",
      "text/plain": [
       "<Figure size 432x288 with 1 Axes>"
      ]
     },
     "metadata": {
      "needs_background": "light"
     },
     "output_type": "display_data"
    }
   ],
   "source": [
    "# Plot this to make it clearer what is going on\n",
    "plt.plot(np.linspace(2,10,9),Q)\n",
    "plt.xlabel('Number of clusters')\n",
    "plt.ylabel('Sum of silhouette scores')\n",
    "plt.show()"
   ]
  },
  {
   "cell_type": "code",
   "execution_count": 300,
   "metadata": {},
   "outputs": [
    {
     "data": {
      "image/png": "[encoded data removed]",
      "text/plain": [
       "<Figure size 432x288 with 1 Axes>"
      ]
     },
     "metadata": {
      "needs_background": "light"
     },
     "output_type": "display_data"
    }
   ],
   "source": [
    "# Recompute kMeans:\n",
    "numClusters = 2\n",
    "kMeans = KMeans(n_clusters = numClusters).fit(x) \n",
    "cId = kMeans.labels_ \n",
    "cCoords = kMeans.cluster_centers_ \n",
    "\n",
    "# Plot the color-coded data:\n",
    "for ii in range(numClusters):\n",
    "    plotIndex = np.argwhere(cId == int(ii))\n",
    "    plt.plot(x[plotIndex,0],x[plotIndex,1],'o',markersize=1)\n",
    "    plt.plot(cCoords[int(ii-1),0],cCoords[int(ii-1),1],'o',markersize=5,color='black')  \n",
    "    plt.xlabel('Open and Energetic')\n",
    "    plt.ylabel('Sensitive and Imaginative')\n",
    "    "
   ]
  },
  {
   "cell_type": "markdown",
   "metadata": {},
   "source": [
    "### Question 3: Are movies that are more popular rated higher than movies that are less popular?"
   ]
  },
  {
   "cell_type": "code",
   "execution_count": 156,
   "metadata": {},
   "outputs": [
    {
     "name": "stdout",
     "output_type": "stream",
     "text": [
      "[[1.         0.69916135]\n",
      " [0.69916135 1.        ]]\n"
     ]
    }
   ],
   "source": [
    "N = []\n",
    "for i in range(400):\n",
    "    M = data[:,i]\n",
    "    M = M[np.isfinite(M)] # only keep the finite elements (not infinity or NaN)\n",
    "    N.append(M)\n",
    "N = np.array(N)\n",
    "\n",
    "allmean = np.zeros([400,2])\n",
    "for i in range(400):\n",
    "    mean = np.mean(N[i])\n",
    "    allmean[i][0] = mean\n",
    "    allmean[i][1] = len(N[i])\n",
    "   \n",
    "sortedmean = allmean[allmean[:,0].argsort()]\n",
    "\n",
    "c3 = np.corrcoef(allmean[:,0],allmean[:,1]) # 0.69916135\n",
    "print(c3)"
   ]
  },
  {
   "cell_type": "markdown",
   "metadata": {},
   "source": []
  },
  {
   "cell_type": "code",
   "execution_count": 157,
   "metadata": {},
   "outputs": [
    {
     "name": "stdout",
     "output_type": "stream",
     "text": [
      "(400, 2)\n",
      "Q3\n",
      "Popular movie rating: 2.8683159282110724\n",
      "Unpopular movie rating: 2.4009228451306637\n",
      "t: 17.756049269873696\n",
      "p: 2.2696530276566144e-52\n"
     ]
    }
   ],
   "source": [
    "count = []\n",
    "ratings = []\n",
    "for i in range(400):\n",
    "    M = data[:,i]\n",
    "    M = M[np.isfinite(M)] # only keep the finite elements (not infinity or NaN)\n",
    "    count.append(len(M))\n",
    "    ratings.append(np.mean(M))\n",
    "\n",
    "count_median = np.median(count)\n",
    "count = np.array(count)\n",
    "ratings = np.array(ratings)\n",
    "\n",
    "M_3 = np.vstack((count,ratings))\n",
    "M_3 = M_3.T\n",
    "print(M_3.shape)\n",
    "\n",
    "popular = []\n",
    "un = []\n",
    "total_popularity = total_un = count_popularity = count_un = 0\n",
    "for i in range(len(M_3)):\n",
    "    if (M_3[i][0] > count_median):\n",
    "        total_popularity += M_3[i][1]\n",
    "        count_popularity += 1\n",
    "        popular.append(M_3[i][1])\n",
    "    elif (M_3[i][0] < count_median):\n",
    "        total_un += M_3[i][1]\n",
    "        count_un += 1\n",
    "        un.append(M_3[i][1])\n",
    "\n",
    "mean_popularity = total_popularity/count_popularity\n",
    "mean_un = total_un/count_un\n",
    "\n",
    "print(\"Q3\")\n",
    "print(\"Popular movie rating:\", mean_popularity)\n",
    "print(\"Unpopular movie rating:\", mean_un)\n",
    "\n",
    "t3,p3 = stats.ttest_ind(popular,un)\n",
    "print(\"t:\",t3)\n",
    "print(\"p:\",p3)"
   ]
  },
  {
   "cell_type": "markdown",
   "metadata": {},
   "source": [
    "### Question 4: Is enjoyment of ‘Shrek (2001)’ gendered, i.e. do male and female viewers rate it differently?"
   ]
  },
  {
   "cell_type": "markdown",
   "metadata": {},
   "source": [
    "Firstly, I combined the column of the ratings of \"Shrek (2001)\" and the column 475 which shows the Gender identity (1 = female, 2 = male, 3 = self-described) into one array. \n",
    "\n",
    "By using a for loop, I went through every row of the array. If the rating is not a nan value and the gender identity is 1, I will add that into the matrix for female ratings. The same for the male ratings when the gender identity is 2. \n",
    "\n",
    "Then, I computed the mean of female ratings and male ratings respectively by dividing the total female/male ratings by the number of female/male ratings.\n",
    "\n",
    "Finally, I used the independent t-test as the hypothesis testing method. The null hypothesis is there is no statistical significance exists between male viewers' ratings and female viewers' ratings. \n",
    "\n",
    "In my project, I take the conventional choices of alpha 0.05. The p-value is 0.271, greater than 0.05, so I chose not to reject the null hypothesis, and stated that there is no statistical significance exists between male viewers' ratings and female viewers' ratings. "
   ]
  },
  {
   "cell_type": "code",
   "execution_count": 181,
   "metadata": {},
   "outputs": [
    {
     "name": "stdout",
     "output_type": "stream",
     "text": [
      "Q4\n",
      "Female rating:  3.155450874831763\n",
      "Male rating:  3.08298755186722\n",
      "p: 0.27087511813734183\n"
     ]
    }
   ],
   "source": [
    "M_shrek = data[:,87] #Shrek (2001)\n",
    "\n",
    "M_4 = data[:,[87,474]]\n",
    "total_female = total_male = count_female = count_male = 0\n",
    "M_female = []\n",
    "M_male = []\n",
    "\n",
    "for i in range(len(M_4[:,0])):\n",
    "    if (M_4[i][1] == 1 and np.isnan(M_4[i][0])==False):\n",
    "        total_female += M_4[i][0]\n",
    "        M_female.append(M4[i][0])\n",
    "        count_female += 1\n",
    "    if (M_4[i][1] == 2 and np.isnan(M_4[i][0])==False):\n",
    "        total_male += M_4[i][0]\n",
    "        M_male.append(M4[i][0])\n",
    "        count_male += 1\n",
    "\n",
    "mean_female = total_female/count_female\n",
    "mean_male = total_male/count_male\n",
    "\n",
    "# number of two samples are not equal\n",
    "# can I assume the data has normal distribution to perform t-test?\n",
    "print(\"Q4\")\n",
    "print(\"Female rating: \", mean_female)\n",
    "print(\"Male rating: \", mean_male)\n",
    "\n",
    "\n",
    "t4,p4 = stats.ttest_ind(M_female,M_male)\n",
    "print(\"p:\",p4)"
   ]
  },
  {
   "cell_type": "code",
   "execution_count": 197,
   "metadata": {},
   "outputs": [
    {
     "name": "stdout",
     "output_type": "stream",
     "text": [
      "Q4\n",
      "Female rating: 3.17870036101083\n",
      "Male rating: 3.1134615384615385\n",
      "p: 0.28542529494330815\n"
     ]
    }
   ],
   "source": [
    "df = pd.read_csv('movieReplicationSet.csv')\n",
    "df_cleaned = df.fillna(df.median())\n",
    "df_np = pd.DataFrame(df_cleaned).to_numpy()\n",
    "\n",
    "M4 = df_np[:,[87,474]]\n",
    "\n",
    "total_female = total_male = count_female = count_male = 0\n",
    "Mfemale = []\n",
    "Mmale = []\n",
    "\n",
    "for i in range(len(M4[:,0])):\n",
    "    if (M4[i][1] == 1):\n",
    "        total_female += M4[i][0]\n",
    "        Mfemale.append(M4[i][0])\n",
    "        count_female += 1\n",
    "    if (M4[i][1] == 2):\n",
    "        total_male += M4[i][0]\n",
    "        Mmale.append(M4[i][0])\n",
    "        count_male += 1\n",
    "\n",
    "mean_female = total_female/count_female\n",
    "mean_male = total_male/count_male\n",
    "\n",
    "print(\"Q4\")\n",
    "print(\"Female rating:\", mean_female)\n",
    "print(\"Male rating:\", mean_male)\n",
    "\n",
    "t4,p4 = stats.ttest_ind(Mfemale,Mmale)\n",
    "print(\"p:\",p4)"
   ]
  },
  {
   "cell_type": "markdown",
   "metadata": {},
   "source": [
    "### Question 5: Do people who are only children enjoy ‘The Lion King (1994)’ more than people with siblings?"
   ]
  },
  {
   "cell_type": "markdown",
   "metadata": {},
   "source": [
    "Firstly, I combined the column of the ratings of \"The Lion King (1994)\" and the column 476: Only child (1 = yes, 0 = no, -1 = no response) into one array.\n",
    "\n",
    "By using a for loop, I went through every row of the array. If the rating is not a nan value and the element in the column \"only child\" is 1, I will add that into the matrix for only child ratings. The same for the siblings ratings when the the element in the column \"only child\" is 0.\n",
    "\n",
    "Then, I computed the mean of only child ratings and siblings ratings respectively by dividing the total only child/siblings ratings by the number of only child/siblings ratings.\n",
    "\n",
    "Finally, I used the independent t-test as the hypothesis testing method. The null hypothesis is there is no statistical significance exists between only child ratings and siblings ratings.\n",
    "\n",
    "The p-value is 0.0403, smaller than 0.05, so I chose to reject the null hypothesis, and stated that there is statistical significance between ratings of only child and ratings of siblings. And since the mean of ratings of only child is bigger than the one of the siblings, I chose to state that people who are only children enjoy ‘The Lion King (1994)’ less than people with siblings."
   ]
  },
  {
   "cell_type": "code",
   "execution_count": 180,
   "metadata": {},
   "outputs": [
    {
     "name": "stdout",
     "output_type": "stream",
     "text": [
      "Q5\n",
      "Only child rating: 3.347682119205298\n",
      "Sibilings rating: 3.481958762886598\n",
      "p: 0.04026705526268264\n"
     ]
    }
   ],
   "source": [
    "M_lion = data[:,220] # The Lion King (1994)\n",
    "\n",
    "M_5 = data[:,[220,475]]\n",
    "total_only = total_sib = count_only = count_sib = 0\n",
    "M_only = []\n",
    "M_sib = []\n",
    "\n",
    "for i in range(len(M_5[:,0])):\n",
    "    if (M_5[i][1] == 1 and np.isnan(M_5[i][0])==False):\n",
    "        total_only += M_5[i][0]\n",
    "        M_only.append(M_5[i][0])\n",
    "        count_only += 1\n",
    "    if (M_5[i][1] == 0 and np.isnan(M_5[i][0])==False):\n",
    "        total_sib += M_5[i][0]\n",
    "        M_sib.append(M_5[i][0])\n",
    "        count_sib += 1\n",
    "        \n",
    "mean_only = total_only/count_only\n",
    "mean_sib = total_sib/count_sib\n",
    "\n",
    "print(\"Q5\")\n",
    "print(\"Only child rating:\", mean_only)\n",
    "print(\"Sibilings rating:\", mean_sib)\n",
    "\n",
    "t5,p5 = stats.ttest_ind(M_only,M_sib)\n",
    "print(\"p:\",p5)"
   ]
  },
  {
   "cell_type": "markdown",
   "metadata": {},
   "source": [
    "### Question 6: Do people who like to watch movies socially enjoy ‘The Wolf of Wall Street (2013)’ more than those who prefer to watch them alone?"
   ]
  },
  {
   "cell_type": "markdown",
   "metadata": {},
   "source": [
    "Firstly, I combined the column of the ratings of \"The Wolf of Wall Street (2013)\" and the column 477: Social viewing preference – “movies are best enjoyed alone” (1 = y, 0 = n, -1 = nr) into one array.\n",
    "\n",
    "By using a for loop, I went through every row of the array. If the rating is not a nan value and the social viewing preference is 1, I will add that into the matrix for watching-alone ratings. The same for the watching-socially ratings when the social viewing preference is -1.\n",
    "\n",
    "Then, I computed the mean of watching-alone ratings and watching-socially ratings respectively by dividing the total watching-alone/-socially ratings by the number of watching-alone/-socially ratings.\n",
    "\n",
    "Finally, I used the independent t-test as the hypothesis testing method. The null hypothesis is there is no statistical significance exists between ratings of people who watch alone and people who watch socially.\n",
    "\n",
    "The p-value is 0.117, greater than 0.05, so I chose not to reject the null hypothesis, and stated that there is no statistical significance exists between ratings of people who watch alone and people who watch socially."
   ]
  },
  {
   "cell_type": "code",
   "execution_count": 182,
   "metadata": {},
   "outputs": [
    {
     "name": "stdout",
     "output_type": "stream",
     "text": [
      "Q6\n",
      "Watch alone: 3.143765903307888\n",
      "Watch socially: 3.033333333333333\n",
      "t: 1.567873874504994\n",
      "p: 0.11738913665664574\n"
     ]
    }
   ],
   "source": [
    "M_wolf = data[:,357] # The Wolf of Wall Street (2013)\n",
    "\n",
    "M_6 = data[:,[357,476]]\n",
    "total_alone = total_soc = count_alone = count_soc = 0\n",
    "M_alone = []\n",
    "M_soc = []\n",
    "\n",
    "for i in range(len(M_6[:,0])):\n",
    "    if (M_6[i][1] == 1 and np.isnan(M_6[i][0])==False):\n",
    "        total_alone += M_6[i][0]\n",
    "        M_alone.append(M_6[i][0])\n",
    "        count_alone += 1\n",
    "    if (M_6[i][1] == 0 and np.isnan(M_6[i][0])==False):\n",
    "        total_soc += M_6[i][0]\n",
    "        M_soc.append(M_6[i][0])\n",
    "        count_soc += 1\n",
    "\n",
    "mean_alone = total_alone/count_alone\n",
    "mean_soc = total_soc/count_soc\n",
    "\n",
    "print(\"Q6\")\n",
    "print(\"Watch alone:\", mean_alone)\n",
    "print(\"Watch socially:\", mean_soc)\n",
    "\n",
    "t6,p6 = stats.ttest_ind(M_alone,M_soc)\n",
    "print(\"t:\",t6)\n",
    "print(\"p:\",p6)"
   ]
  },
  {
   "cell_type": "markdown",
   "metadata": {},
   "source": [
    "### Question 7: There are ratings on movies from several franchises ([‘Star Wars’, ‘Harry Potter’, ‘The Matrix’, ‘Indiana Jones’, ‘Jurassic Park’, ‘Pirates of the Caribbean’, ‘Toy Story’, ‘Batman’]) in this dataset. How many of these are of inconsistent quality, as experienced by viewers?"
   ]
  },
  {
   "cell_type": "code",
   "execution_count": 211,
   "metadata": {},
   "outputs": [
    {
     "name": "stdout",
     "output_type": "stream",
     "text": [
      "f: 39.029939613074056\n",
      "p: 2.399595163532992e-38\n"
     ]
    }
   ],
   "source": [
    "# Star Wars\n",
    "data[:,21] # Star Wars: Episode IV - A New Hope (1977)\n",
    "data[:,273] # Star Wars: Episode 1 - The Phantom Menace (1999)\n",
    "data[:,93] # Star Wars: Episode II - Attack of the Clones (2002)\n",
    "data[:,174] # Star Wars: Episode V - The Empire Strikes Back (1980)\n",
    "data[:,342] # Star Wars: Episode VI - The Return of the Jedi (1983)\n",
    "data[:,336] # Star Wars: Episode VII - The Force Awakens (2015)\n",
    "\n",
    "# Star Wars\n",
    "M_71 = data[:,[21,273,93,174,342,336]]\n",
    "M_71 = M_71[~np.isnan(M_71).any(axis=1), :]\n",
    "\n",
    "f71,p71 = stats.f_oneway(M_71[:,0],M_71[:,1],M_71[:,2],M_71[:,3],M_71[:,4],M_71[:,5])\n",
    "print(\"f:\",f71)\n",
    "print(\"p:\",p71)"
   ]
  },
  {
   "cell_type": "code",
   "execution_count": 212,
   "metadata": {},
   "outputs": [
    {
     "name": "stdout",
     "output_type": "stream",
     "text": [
      "f: 1.4456904473285563\n",
      "p: 0.2275340290918136\n"
     ]
    }
   ],
   "source": [
    "# Harry Potter\n",
    "data[:,394] # Harry Potter and the Chamber of Secrets (2002)\n",
    "data[:,230] # Harry Potter and the Sorcerer's Stone (2001)\n",
    "data[:,258] # Harry Potter and the Deathly Hallows: Part 2 (2011)\n",
    "data[:,387] # Harry Potter and the Goblet of Fire (2005)\n",
    "\n",
    "# Harry Potter\n",
    "M_72 = data[:,[394,230,258,387]]\n",
    "M_72 = M_72[~np.isnan(M_72).any(axis=1), :]\n",
    "\n",
    "f72,p72 = stats.f_oneway(M_72[:,0],M_72[:,1],M_72[:,2],M_72[:,3])\n",
    "print(\"f:\",f72)\n",
    "print(\"p:\",p72)"
   ]
  },
  {
   "cell_type": "code",
   "execution_count": 213,
   "metadata": {},
   "outputs": [
    {
     "name": "stdout",
     "output_type": "stream",
     "text": [
      "f: 18.59281511303809\n",
      "p: 1.2957225925356723e-08\n"
     ]
    }
   ],
   "source": [
    "# The Matrix\n",
    "data[:,306] # The Matrix (1999)\n",
    "data[:,35] # The Matrix Revolutions (2003)\n",
    "data[:,172] # The Matrix Reloaded (2003)\n",
    "\n",
    "# The Matrix\n",
    "M_73 = data[:,[306,35,172]]\n",
    "M_73 = M_73[~np.isnan(M_73).any(axis=1), :]\n",
    "\n",
    "f73,p73 = stats.f_oneway(M_73[:,0],M_73[:,1],M_73[:,2])\n",
    "print(\"f:\",f73)\n",
    "print(\"p:\",p73)"
   ]
  },
  {
   "cell_type": "code",
   "execution_count": 214,
   "metadata": {},
   "outputs": [
    {
     "name": "stdout",
     "output_type": "stream",
     "text": [
      "f: 16.40534411724678\n",
      "p: 9.744274397244495e-08\n"
     ]
    }
   ],
   "source": [
    "# Indiana Jones\n",
    "data[:,32] # Indiana Jones and the Temple of Doom (1984)\n",
    "data[:,4] # Indiana Jones and the Last Crusade (1989)\n",
    "data[:,142] # Indiana Jones and the Kingdom of the Crystal Skull (2008)\n",
    "\n",
    "# Indiana Jones\n",
    "M_74 = data[:,[32,4,142]]\n",
    "M_74 = M_74[~np.isnan(M_74).any(axis=1), :]\n",
    "\n",
    "f74,p74 = stats.f_oneway(M_74[:,0],M_74[:,1],M_74[:,2])\n",
    "print(\"f:\",f74)\n",
    "print(\"p:\",p74)"
   ]
  },
  {
   "cell_type": "code",
   "execution_count": 215,
   "metadata": {},
   "outputs": [
    {
     "name": "stdout",
     "output_type": "stream",
     "text": [
      "f: 22.163615231952214\n",
      "p: 3.542127514286409e-10\n"
     ]
    }
   ],
   "source": [
    "# Jurassic Park\n",
    "data[:,370] # Jurassic Park (1993)\n",
    "data[:,37] # The Lost World: Jurassic Park (1997)\n",
    "data[:,47] # Jurassic Park III (2001)\n",
    "\n",
    "# Jurassic Park\n",
    "M_75 = data[:,[370,37,47]]\n",
    "M_75 = M_75[~np.isnan(M_75).any(axis=1), :]\n",
    "\n",
    "f75,p75 = stats.f_oneway(M_75[:,0],M_75[:,1],M_75[:,2])\n",
    "print(\"f:\",f75)\n",
    "print(\"p:\",p75)"
   ]
  },
  {
   "cell_type": "code",
   "execution_count": 216,
   "metadata": {},
   "outputs": [
    {
     "name": "stdout",
     "output_type": "stream",
     "text": [
      "f: 3.4465950041304327\n",
      "p: 0.03207932803269902\n"
     ]
    }
   ],
   "source": [
    "# Pirates of the Caribbean\n",
    "data[:,351] # Pirates of the Caribbean: The Curse of the Black Pearl (2003)\n",
    "data[:,75] # Pirates of the Caribbean: Dead Man's Chest (2006)\n",
    "data[:,204] # Pirates of the Caribbean: At World's End (2007)\n",
    "\n",
    "# Pirates of the Caribbean\n",
    "M_76 = data[:,[351,75,204]]\n",
    "M_76 = M_76[~np.isnan(M_76).any(axis=1), :]\n",
    "\n",
    "f76,p76 = stats.f_oneway(M_76[:,0],M_76[:,1],M_76[:,2])\n",
    "print(\"f:\",f76)\n",
    "print(\"p:\",p76)"
   ]
  },
  {
   "cell_type": "code",
   "execution_count": 217,
   "metadata": {},
   "outputs": [
    {
     "name": "stdout",
     "output_type": "stream",
     "text": [
      "f: 7.588144542578829\n",
      "p: 0.0005193828629536134\n"
     ]
    }
   ],
   "source": [
    "# Toy Story\n",
    "data[:,276] # Toy Story (1995)\n",
    "data[:,157] # Toy Story 2 (1999)\n",
    "data[:,171] # Toy Story 3 (2010)\n",
    "\n",
    "# Toy Story\n",
    "M_77 = data[:,[276,157,171]]\n",
    "M_77 = M_77[~np.isnan(M_77).any(axis=1), :]\n",
    "\n",
    "f77,p77 = stats.f_oneway(M_77[:,0],M_77[:,1],M_77[:,2])\n",
    "print(\"f:\",f77)\n",
    "print(\"p:\",p77)"
   ]
  },
  {
   "cell_type": "code",
   "execution_count": 218,
   "metadata": {},
   "outputs": [
    {
     "name": "stdout",
     "output_type": "stream",
     "text": [
      "f: 28.083419490364403\n",
      "p: 1.7403794623835232e-07\n"
     ]
    }
   ],
   "source": [
    "# Batman\n",
    "\n",
    "data[:,181] # Batman (1989)\n",
    "data[:,46] # Batman & Robin (1997)\n",
    "\n",
    "# Batman\n",
    "M_78 = data[:,[181,46]]\n",
    "M_78 = M_78[~np.isnan(M_78).any(axis=1), :]\n",
    "\n",
    "f78,p78 = stats.f_oneway(M_78[:,0],M_78[:,1])\n",
    "print(\"f:\",f78)\n",
    "print(\"p:\",p78)"
   ]
  },
  {
   "cell_type": "markdown",
   "metadata": {},
   "source": [
    "### Question 8: Build a prediction model of your choice (regression or supervised learning) to predict movie ratings (for all 400 movies) from personality factors only. Make sure to use cross-validation methods to avoid overfitting and characterize the accuracy of your model."
   ]
  },
  {
   "cell_type": "code",
   "execution_count": 280,
   "metadata": {},
   "outputs": [
    {
     "name": "stdout",
     "output_type": "stream",
     "text": [
      "(1097, 44)\n",
      "(1097,)\n",
      "R^2: -0.0675918925025254\n",
      "RMSE: 0.3846881856003435\n"
     ]
    }
   ],
   "source": [
    "df = pd.read_csv('movieReplicationSet.csv')\n",
    "df_cleaned = df.fillna(df.median())\n",
    "df_np = pd.DataFrame(df_cleaned).to_numpy()\n",
    "\n",
    "x_8 = df_np[:,420:464]\n",
    "y_8 = df_np[:,320]\n",
    "\n",
    "print(x_8.shape)\n",
    "print(y_8.shape)\n",
    "\n",
    "x_8_train,x_8_test,y_8_train,y_8_test = train_test_split(x_8,y_8,test_size=0.2)\n",
    "\n",
    "regressor = LinearRegression()\n",
    "regressor.fit(x_8_train,y_8_train)\n",
    "\n",
    "y_8_prediction = regressor.predict(x_8_test)\n",
    "print('R^2:',metrics.r2_score(y_8_test,y_8_prediction))\n",
    "print('RMSE:',np.sqrt(metrics.mean_squared_error(y_8_test,y_8_prediction)))"
   ]
  },
  {
   "cell_type": "code",
   "execution_count": 274,
   "metadata": {},
   "outputs": [
    {
     "name": "stdout",
     "output_type": "stream",
     "text": [
      "R^2: -0.04750118956806593\n",
      "RMSE: 0.3374900330759505\n",
      "R^2: -0.10362255024070444\n",
      "RMSE: 0.2732708163922752\n",
      "R^2: -0.012699513916869076\n",
      "RMSE: 0.6583191697606974\n",
      "R^2: -0.04369342838101775\n",
      "RMSE: 0.6051254583964771\n",
      "R^2: 0.007719807306725057\n",
      "RMSE: 0.6234836934392531\n",
      "R^2: -0.02840575433298209\n",
      "RMSE: 0.3832524974787035\n",
      "R^2: -0.06521101999198442\n",
      "RMSE: 0.390508440494713\n",
      "R^2: 0.03036807750432724\n",
      "RMSE: 0.5630395583325789\n",
      "R^2: -0.06721538827060125\n",
      "RMSE: 0.3244051213142089\n",
      "R^2: -0.06026936156291729\n",
      "RMSE: 0.750457160243788\n",
      "R^2: -0.0843020019984062\n",
      "RMSE: 0.6288667520666872\n",
      "R^2: 0.0008615270732031943\n",
      "RMSE: 0.4323429607348565\n",
      "R^2: -0.09898149483325769\n",
      "RMSE: 0.5786415611208982\n",
      "R^2: -0.04891739270184248\n",
      "RMSE: 0.35953740992374617\n",
      "R^2: 0.002023358437407974\n",
      "RMSE: 0.8908756824717687\n",
      "R^2: -0.07215371583424468\n",
      "RMSE: 0.30220340052411643\n",
      "R^2: -0.022670173811775385\n",
      "RMSE: 0.5963129890334847\n",
      "R^2: -0.055203910223937\n",
      "RMSE: 0.6033075035387936\n",
      "R^2: -0.09020061604437934\n",
      "RMSE: 0.6490923410500519\n",
      "R^2: -0.06874826018398439\n",
      "RMSE: 0.5560997628259852\n",
      "R^2: -0.04534812638434982\n",
      "RMSE: 0.4671190670550651\n",
      "R^2: -0.017209484272506792\n",
      "RMSE: 0.7541129254904125\n",
      "R^2: -0.09751192177387669\n",
      "RMSE: 0.6900469870716913\n",
      "R^2: 0.007879996648562315\n",
      "RMSE: 0.39441343375174764\n",
      "R^2: -0.09971514370742707\n",
      "RMSE: 0.4768840164570668\n",
      "R^2: -0.09535117836324014\n",
      "RMSE: 0.36144763217324377\n",
      "R^2: -0.01941580283373323\n",
      "RMSE: 0.5763085683989293\n",
      "R^2: -0.0034912335095964586\n",
      "RMSE: 0.30384232229626185\n",
      "R^2: 0.017726790205766618\n",
      "RMSE: 0.41457501503069966\n",
      "R^2: -0.0662502399207634\n",
      "RMSE: 0.6251976785625837\n",
      "R^2: -0.13621033546285743\n",
      "RMSE: 0.6817506690702946\n",
      "R^2: 0.017622828256502632\n",
      "RMSE: 0.5697417225745062\n",
      "R^2: -0.030869861083574923\n",
      "RMSE: 0.657207495708604\n",
      "R^2: -0.07852979827121165\n",
      "RMSE: 0.5150549119398953\n",
      "R^2: -0.045670244752036515\n",
      "RMSE: 0.520601841063257\n",
      "R^2: -0.04700718454849162\n",
      "RMSE: 0.7038180632056438\n",
      "R^2: -0.0548407009168399\n",
      "RMSE: 0.313376446923159\n",
      "R^2: -0.03980724220994891\n",
      "RMSE: 0.7144433808030333\n",
      "R^2: -0.10395352526502966\n",
      "RMSE: 0.6274231356655339\n",
      "R^2: -0.03212277649836959\n",
      "RMSE: 0.4986191971127329\n",
      "R^2: -0.011480758492682375\n",
      "RMSE: 0.6696661424015893\n",
      "R^2: 0.0015101991424675276\n",
      "RMSE: 0.734755252423317\n",
      "R^2: -0.07845727616468134\n",
      "RMSE: 0.3601451671429419\n",
      "R^2: -0.1699267263283868\n",
      "RMSE: 0.35346743940163095\n",
      "R^2: -0.03307904088705049\n",
      "RMSE: 0.6435402849541818\n",
      "R^2: -0.0305490426749373\n",
      "RMSE: 0.3455768905094716\n",
      "R^2: -0.05335602384705895\n",
      "RMSE: 0.542642505232053\n",
      "R^2: -0.034212653299190876\n",
      "RMSE: 0.7048868421290531\n",
      "R^2: -0.0724084582065525\n",
      "RMSE: 0.32790753287308644\n",
      "R^2: -0.08749016491001393\n",
      "RMSE: 0.4409592259952333\n",
      "R^2: -0.05176611564943223\n",
      "RMSE: 0.36086934145538163\n",
      "R^2: -0.09140705707879282\n",
      "RMSE: 0.590110059959814\n",
      "R^2: -0.020726949190118527\n",
      "RMSE: 0.5665329427322984\n",
      "R^2: -0.05104853619933447\n",
      "RMSE: 0.6285169465555255\n",
      "R^2: -0.06850251761044146\n",
      "RMSE: 0.6675392115937719\n",
      "R^2: -0.008917795574846732\n",
      "RMSE: 0.8045184581063777\n",
      "R^2: -0.03413080470406715\n",
      "RMSE: 0.49199517665638576\n",
      "R^2: -0.06208428300412949\n",
      "RMSE: 0.9824218209416942\n",
      "R^2: -0.052952908520674136\n",
      "RMSE: 0.6366487289740801\n",
      "R^2: -0.10869619119180296\n",
      "RMSE: 0.43610852631369995\n",
      "R^2: -0.09274523879808094\n",
      "RMSE: 0.37183851473631785\n",
      "R^2: -0.06877358706124759\n",
      "RMSE: 0.40665380630701825\n",
      "R^2: -0.08609238122698537\n",
      "RMSE: 0.4206342835203954\n",
      "R^2: -0.13874473972450074\n",
      "RMSE: 0.31287658315446837\n",
      "R^2: -0.01618091189866866\n",
      "RMSE: 0.29775599950656056\n",
      "R^2: 0.004674502842716088\n",
      "RMSE: 0.5055661380282742\n",
      "R^2: -0.11558690951726835\n",
      "RMSE: 0.40564648297969635\n",
      "R^2: -0.07991190668106363\n",
      "RMSE: 0.319139075489973\n",
      "R^2: -0.1685383645243861\n",
      "RMSE: 0.2958780220306558\n",
      "R^2: -0.05142420807837156\n",
      "RMSE: 0.402429796537231\n",
      "R^2: -0.021533863449894053\n",
      "RMSE: 0.33830895575779246\n",
      "R^2: -0.05266583358397048\n",
      "RMSE: 0.3813056922473953\n",
      "R^2: -0.0645977179833288\n",
      "RMSE: 0.6524960566247536\n",
      "R^2: -0.061924095676289204\n",
      "RMSE: 0.6448862054868872\n",
      "R^2: -0.0796534876490238\n",
      "RMSE: 0.7512232953499656\n",
      "R^2: -0.07248848248535289\n",
      "RMSE: 0.8658748464091304\n",
      "R^2: -0.027485656701485395\n",
      "RMSE: 0.37188964033257804\n",
      "R^2: -0.022059933815326227\n",
      "RMSE: 0.38758988211539774\n",
      "R^2: -0.07929211065902853\n",
      "RMSE: 0.4966426545954609\n",
      "R^2: -0.025643552685678417\n",
      "RMSE: 0.4557739611235085\n",
      "R^2: 0.047542780458465606\n",
      "RMSE: 0.9964793471975981\n",
      "R^2: -0.0012504774806971763\n",
      "RMSE: 0.5496479333941545\n",
      "R^2: -0.015707377458565874\n",
      "RMSE: 0.45540786561229063\n",
      "R^2: -0.0654719413297109\n",
      "RMSE: 0.6076457500216539\n",
      "R^2: -0.11084495396398952\n",
      "RMSE: 0.8520915250695174\n",
      "R^2: 0.03269034386117753\n",
      "RMSE: 0.4861340761650365\n",
      "R^2: -0.09947806235537215\n",
      "RMSE: 0.3039165079975221\n",
      "R^2: -0.09061766188408726\n",
      "RMSE: 0.8515562682753776\n",
      "R^2: -0.016257541195811687\n",
      "RMSE: 0.41874385962011446\n",
      "R^2: -0.1489742651975685\n",
      "RMSE: 0.31496961201517265\n",
      "R^2: 0.011096919879922895\n",
      "RMSE: 0.6539257256177117\n",
      "R^2: -0.07585516258885106\n",
      "RMSE: 0.38124274669642333\n",
      "R^2: -0.022351837275683684\n",
      "RMSE: 0.33629212190543706\n",
      "R^2: 0.013931998827700354\n",
      "RMSE: 0.7315086309008576\n",
      "R^2: -0.05584201592916482\n",
      "RMSE: 0.48701965694826393\n",
      "R^2: -0.05663221108010985\n",
      "RMSE: 0.6819891467322012\n",
      "R^2: -0.055834314461764345\n",
      "RMSE: 0.5287255217015071\n",
      "R^2: -0.10210098602355377\n",
      "RMSE: 0.5790052257857042\n",
      "R^2: -0.0523342733271015\n",
      "RMSE: 0.3707722153495115\n",
      "R^2: -0.04217179823474049\n",
      "RMSE: 0.6002164960009014\n",
      "R^2: -0.04004149815303615\n",
      "RMSE: 0.33776062216642333\n",
      "R^2: -0.1741776877633161\n",
      "RMSE: 0.2717481242019218\n",
      "R^2: -0.012679574453170694\n",
      "RMSE: 0.4044659886904581\n",
      "R^2: -0.041524041998770134\n",
      "RMSE: 0.8653042347070758\n",
      "R^2: -0.04415130324829186\n",
      "RMSE: 0.34392065434518243\n",
      "R^2: -0.06068593955488355\n",
      "RMSE: 0.3489016183867042\n",
      "R^2: -0.2136232063150616\n",
      "RMSE: 0.23777623884891017\n",
      "R^2: -0.028418083945480843\n",
      "RMSE: 0.39042970960871065\n",
      "R^2: -0.1431551881924087\n",
      "RMSE: 0.2958076276074371\n",
      "R^2: -0.16797885373820942\n",
      "RMSE: 0.2692768269273072\n",
      "R^2: -0.03012016732625078\n",
      "RMSE: 0.6131616888969149\n",
      "R^2: -0.07954389209968626\n",
      "RMSE: 0.28504416480138084\n",
      "R^2: -0.03996624828169226\n",
      "RMSE: 0.7645279138140907\n",
      "R^2: -0.11488154923659466\n",
      "RMSE: 0.7044371543568386\n",
      "R^2: -0.3346539582156316\n",
      "RMSE: 0.2127237346943472\n",
      "R^2: -0.11647491132706334\n",
      "RMSE: 0.3136615766153597\n",
      "R^2: -0.12863289390277255\n",
      "RMSE: 0.18950210189910593\n",
      "R^2: -0.09964993259982635\n",
      "RMSE: 0.6091639616413627\n",
      "R^2: -0.12454008634989178\n",
      "RMSE: 0.2626896818207883\n",
      "R^2: -0.0710092216442173\n",
      "RMSE: 0.28901342798887814\n",
      "R^2: -0.0930924168184799\n",
      "RMSE: 0.40976885355757886\n",
      "R^2: -0.05703944808604544\n",
      "RMSE: 0.7199600290338984\n",
      "R^2: -0.0342367206059202\n",
      "RMSE: 0.42790993247092945\n",
      "R^2: -0.03974437431535316\n",
      "RMSE: 0.24747949289668897\n",
      "R^2: -0.07667328245286908\n",
      "RMSE: 0.7915564183957207\n",
      "R^2: -0.18387332055549122\n",
      "RMSE: 0.3377155058949814\n",
      "R^2: -0.09523679071343993\n",
      "RMSE: 0.2987444076925257\n",
      "R^2: -0.09192460153871251\n",
      "RMSE: 0.32048709472526593\n",
      "R^2: -0.0464657267675086\n",
      "RMSE: 0.32597968775862557\n",
      "R^2: -0.16200289755785047\n",
      "RMSE: 0.1990319952771856\n",
      "R^2: -0.07117935146261112\n",
      "RMSE: 0.4494161216991844\n",
      "R^2: -0.04561179702057783\n",
      "RMSE: 0.7265219368073366\n",
      "R^2: -0.11888149771015044\n",
      "RMSE: 0.4037048098921962\n",
      "R^2: -0.0765096447200424\n",
      "RMSE: 0.25409206257711436\n",
      "R^2: -0.14896625354335447\n",
      "RMSE: 0.2423799113046669\n",
      "R^2: -0.13321963301001682\n",
      "RMSE: 0.29372328585170415\n",
      "R^2: -0.15312621223634348\n",
      "RMSE: 0.3912786054768916\n",
      "R^2: -0.046306110069930906\n",
      "RMSE: 0.422926071405336\n",
      "R^2: -0.05849062006407579\n",
      "RMSE: 0.7010499074741569\n",
      "R^2: -0.16100234825919868\n",
      "RMSE: 0.21487259678086723\n",
      "R^2: -0.05809546617615702\n",
      "RMSE: 0.6111089419592692\n",
      "R^2: -0.07336477605508107\n",
      "RMSE: 0.5202806469408252\n",
      "R^2: -0.04305119851128336\n",
      "RMSE: 0.6855640072403163\n",
      "R^2: -0.09210330992921834\n",
      "RMSE: 0.2438831994598842\n",
      "R^2: -0.08473008204492527\n",
      "RMSE: 0.5216709921439397\n",
      "R^2: -0.031252969592819646\n",
      "RMSE: 0.48747338466499085\n",
      "R^2: -0.09636847730335085\n",
      "RMSE: 0.3243670723471046\n",
      "R^2: -0.07664986706657517\n",
      "RMSE: 0.48982931472677715\n",
      "R^2: -0.08661622983417439\n",
      "RMSE: 0.6686561483243423\n",
      "R^2: -0.05015912109692766\n",
      "RMSE: 0.7573141087156704\n",
      "R^2: -0.012268243090825637\n",
      "RMSE: 0.5414235844825244\n",
      "R^2: -0.028745124300963987\n",
      "RMSE: 0.4524461588931448\n",
      "R^2: -0.11756496700489216\n",
      "RMSE: 0.3105231290613873\n",
      "R^2: -0.07485304579415697\n",
      "RMSE: 0.4622340904919555\n",
      "R^2: -0.10101029006221096\n",
      "RMSE: 0.8260468522309762\n",
      "R^2: -0.025904677468251203\n",
      "RMSE: 0.38326348247796316\n",
      "R^2: -0.140663615365763\n",
      "RMSE: 0.28575383345362254\n",
      "R^2: -0.017219778347981496\n",
      "RMSE: 0.8835695575021281\n",
      "R^2: -0.10795600297781793\n",
      "RMSE: 0.7733000240568857\n",
      "R^2: -0.060984062504384484\n",
      "RMSE: 0.2787562123816656\n",
      "R^2: -0.047080375074224134\n",
      "RMSE: 0.6373366120616708\n",
      "R^2: -0.04613407214721166\n",
      "RMSE: 0.37758202928709156\n",
      "R^2: -0.07971612762557356\n",
      "RMSE: 0.30357060131690944\n",
      "R^2: 0.002534061606614957\n",
      "RMSE: 0.33853439841962757\n",
      "R^2: -0.031793185172708904\n",
      "RMSE: 0.3799269083904158\n",
      "R^2: -0.013403581074182158\n",
      "RMSE: 0.49033341605102954\n",
      "R^2: -0.02216459493855516\n",
      "RMSE: 0.559804512867619\n",
      "R^2: -0.09544677068777907\n",
      "RMSE: 0.39097000482349314\n",
      "R^2: -0.1783028085806202\n",
      "RMSE: 0.3462652369252267\n",
      "R^2: -0.00451726800908836\n",
      "RMSE: 0.4691717280736814\n",
      "R^2: -0.07226399345907852\n",
      "RMSE: 0.804151337791488\n",
      "R^2: -0.039543313869570884\n",
      "RMSE: 0.8682492939947063\n",
      "R^2: -0.05201378832913561\n",
      "RMSE: 0.613438549157841\n",
      "R^2: -0.18071989987454784\n",
      "RMSE: 0.25377727169610914\n",
      "R^2: -0.035259164029666445\n",
      "RMSE: 0.7645917753249252\n",
      "R^2: -0.023933655487334393\n",
      "RMSE: 0.3577297181978006\n",
      "R^2: -0.04458793015510798\n",
      "RMSE: 0.5959302964765869\n",
      "R^2: -0.026041472367669405\n",
      "RMSE: 0.5444475818432661\n",
      "R^2: -0.0662149372073928\n",
      "RMSE: 0.4433523991289246\n"
     ]
    },
    {
     "name": "stdout",
     "output_type": "stream",
     "text": [
      "R^2: 0.007154454261161902\n",
      "RMSE: 0.357603338013196\n",
      "R^2: -0.040214857547623106\n",
      "RMSE: 0.25831650931948535\n",
      "R^2: 3.3487270280296855e-05\n",
      "RMSE: 0.5249666127380914\n",
      "R^2: -0.17652325742605535\n",
      "RMSE: 0.41264244441270437\n",
      "R^2: -0.023818750530429922\n",
      "RMSE: 0.6421048044425415\n",
      "R^2: -0.0848876715397302\n",
      "RMSE: 0.7830438467749665\n",
      "R^2: -0.0962802132334275\n",
      "RMSE: 0.2931768618033323\n",
      "R^2: 0.012122979260194677\n",
      "RMSE: 0.8394241362576632\n",
      "R^2: -0.21534524603752314\n",
      "RMSE: 0.3193328868874931\n",
      "R^2: -0.11041017777848672\n",
      "RMSE: 0.7610047527994998\n",
      "R^2: -0.07414125381374714\n",
      "RMSE: 0.42327124840428465\n",
      "R^2: -0.06045058888113486\n",
      "RMSE: 0.6739861830410738\n",
      "R^2: -0.035161551748621234\n",
      "RMSE: 0.8264984488656083\n",
      "R^2: -0.30383631343413753\n",
      "RMSE: 0.21718605083698353\n",
      "R^2: -0.06620262950066014\n",
      "RMSE: 0.36503876466429436\n",
      "R^2: -0.1232387122619143\n",
      "RMSE: 0.3407357883070535\n",
      "R^2: -0.09704718635003484\n",
      "RMSE: 0.3031320421679401\n",
      "R^2: -0.12728609984506978\n",
      "RMSE: 0.22507332446930678\n",
      "R^2: -0.0656825561970098\n",
      "RMSE: 0.4843369403330033\n",
      "R^2: -0.08626640128889651\n",
      "RMSE: 0.7664734812917636\n",
      "R^2: -0.02084745298492252\n",
      "RMSE: 0.5601219364605236\n",
      "R^2: -0.032274353162698555\n",
      "RMSE: 0.2865531933829074\n",
      "R^2: -0.022131652034395266\n",
      "RMSE: 0.7368402307585431\n",
      "R^2: -0.04277695603058329\n",
      "RMSE: 0.2952108361000712\n",
      "R^2: -0.031114612699963295\n",
      "RMSE: 0.23711033553444322\n",
      "R^2: -0.04233430836927754\n",
      "RMSE: 0.8132967288500184\n",
      "R^2: -0.060125532443994434\n",
      "RMSE: 0.6265230973120397\n",
      "R^2: -0.05359922729675892\n",
      "RMSE: 0.6024828744071121\n",
      "R^2: -0.05944988690799846\n",
      "RMSE: 0.7821971041172225\n",
      "R^2: -0.08251377262193871\n",
      "RMSE: 0.29847599567386157\n",
      "R^2: -0.0037641495886531207\n",
      "RMSE: 0.4711741154964108\n",
      "R^2: -0.017174077602491344\n",
      "RMSE: 0.546650170845798\n",
      "R^2: -0.03592661036656497\n",
      "RMSE: 0.7109408839983594\n",
      "R^2: 0.05353712772946606\n",
      "RMSE: 0.39614267584735263\n",
      "R^2: -0.0939328581890091\n",
      "RMSE: 0.43116212743753213\n",
      "R^2: -0.0046920909323298066\n",
      "RMSE: 0.5275844738149242\n",
      "R^2: -0.06572398905473209\n",
      "RMSE: 0.398243650817701\n",
      "R^2: 0.039527869507978486\n",
      "RMSE: 0.5261985044536985\n",
      "R^2: -0.032432362897055755\n",
      "RMSE: 0.6783177731701737\n",
      "R^2: -0.057511624521571214\n",
      "RMSE: 0.45810277942962535\n",
      "R^2: -0.043956335418771086\n",
      "RMSE: 0.6988987082388725\n",
      "R^2: 0.02913792639562518\n",
      "RMSE: 0.6741214098032383\n",
      "R^2: -0.014316517150040786\n",
      "RMSE: 0.47836070907938905\n",
      "R^2: -0.006956162294788459\n",
      "RMSE: 0.4380687245841969\n",
      "R^2: -0.04947060508549006\n",
      "RMSE: 0.5287725745904088\n",
      "R^2: -0.02780403030048495\n",
      "RMSE: 0.3324546519348293\n",
      "R^2: 0.00808330673824198\n",
      "RMSE: 0.5519052243911557\n",
      "R^2: -0.02632439812092069\n",
      "RMSE: 0.42626994918291916\n",
      "R^2: 0.018413518410084206\n",
      "RMSE: 0.4894598918727587\n",
      "R^2: -0.02716087526575217\n",
      "RMSE: 0.3986919458436407\n",
      "R^2: -0.046265256726752746\n",
      "RMSE: 0.42536421435200683\n",
      "R^2: -0.026202499259813772\n",
      "RMSE: 0.734184339509739\n",
      "R^2: -0.006717791155790076\n",
      "RMSE: 0.3308941821268146\n",
      "R^2: -0.05859436873875956\n",
      "RMSE: 0.2706346952460988\n",
      "R^2: -0.04912956072674035\n",
      "RMSE: 0.3449988147647186\n",
      "R^2: -0.10721977893296075\n",
      "RMSE: 0.6054519815947245\n",
      "R^2: 0.002665688316546677\n",
      "RMSE: 0.7830155354240967\n",
      "R^2: -0.061490610251293765\n",
      "RMSE: 0.41805218594618077\n",
      "R^2: -0.06080973728417183\n",
      "RMSE: 0.8438610149111248\n",
      "R^2: -0.06223453326651307\n",
      "RMSE: 0.796009847860735\n",
      "R^2: -0.1530108329394373\n",
      "RMSE: 0.5146618724456714\n",
      "R^2: -0.10065213788161964\n",
      "RMSE: 0.22492771307818266\n",
      "R^2: -0.0510158226834192\n",
      "RMSE: 0.8263249006880129\n",
      "R^2: -0.024577697537728094\n",
      "RMSE: 0.4496907707073501\n",
      "R^2: 0.02072609135199377\n",
      "RMSE: 0.6244754048859511\n",
      "R^2: -0.061855759889521744\n",
      "RMSE: 0.5568704187389525\n",
      "R^2: -0.04269708573866793\n",
      "RMSE: 0.746989788529744\n",
      "R^2: 0.026338689567234397\n",
      "RMSE: 0.7466030210094602\n",
      "R^2: -0.2058860386273098\n",
      "RMSE: 0.3310511437234072\n",
      "R^2: 0.005816978382021332\n",
      "RMSE: 0.7636479434151028\n",
      "R^2: -0.17145268516436873\n",
      "RMSE: 0.1964653655714658\n",
      "R^2: -0.006662208926530688\n",
      "RMSE: 0.4113624744289531\n",
      "R^2: -0.02630000029718005\n",
      "RMSE: 0.4114766024541479\n",
      "R^2: -0.01352390639216039\n",
      "RMSE: 0.5623004230449351\n",
      "R^2: -0.026630994686094533\n",
      "RMSE: 0.7157902501491289\n",
      "R^2: -0.04665776105919406\n",
      "RMSE: 0.3905340569986582\n",
      "R^2: -0.059119585490502224\n",
      "RMSE: 0.8783318642586833\n",
      "R^2: -0.0006465037107727944\n",
      "RMSE: 0.36618970671369144\n",
      "R^2: -0.02169295147140904\n",
      "RMSE: 0.5517744107215866\n",
      "R^2: -0.043188120857378776\n",
      "RMSE: 0.7174651356952141\n",
      "R^2: -0.09946005484945153\n",
      "RMSE: 0.47553471384380314\n",
      "R^2: -0.04053597545939924\n",
      "RMSE: 0.33688502018861394\n",
      "R^2: -0.0691613921710077\n",
      "RMSE: 0.5047372904257074\n",
      "R^2: -0.14064366321228072\n",
      "RMSE: 0.7589941923083943\n",
      "R^2: -0.04871117705029948\n",
      "RMSE: 0.2856099534908758\n",
      "R^2: 0.01161230404892688\n",
      "RMSE: 0.7094376068875439\n",
      "R^2: 0.018800757229612053\n",
      "RMSE: 0.6452721564882961\n",
      "R^2: -0.00016047330204194132\n",
      "RMSE: 0.2610978649294784\n",
      "R^2: -0.07125247785428557\n",
      "RMSE: 0.7580804757641874\n",
      "R^2: -0.025055314002691897\n",
      "RMSE: 0.37394987882132136\n",
      "R^2: 0.0052149810619298576\n",
      "RMSE: 0.5490134334024431\n",
      "R^2: -0.07288023484049955\n",
      "RMSE: 0.3272438249395127\n",
      "R^2: -0.029760685837106227\n",
      "RMSE: 0.2999518039878599\n",
      "R^2: 0.00236350430786636\n",
      "RMSE: 0.49785343879511734\n",
      "R^2: -0.012453059592036908\n",
      "RMSE: 0.7258457984430713\n",
      "R^2: -0.04227581157851934\n",
      "RMSE: 0.4630030240898525\n",
      "R^2: -0.04371038936873939\n",
      "RMSE: 0.32641848848592003\n",
      "R^2: -0.03877141689364838\n",
      "RMSE: 0.8925799934810241\n",
      "R^2: -0.002333593239046694\n",
      "RMSE: 0.3742909598442818\n",
      "R^2: -0.07354017162636683\n",
      "RMSE: 0.5770541857548428\n",
      "R^2: -0.021359886615845092\n",
      "RMSE: 0.40879153040745514\n",
      "R^2: -0.14026161746393884\n",
      "RMSE: 0.27878585178825777\n",
      "R^2: 0.0075540429149392185\n",
      "RMSE: 0.4895752247293008\n",
      "R^2: -0.0732738522668217\n",
      "RMSE: 0.26340136725988417\n",
      "R^2: 0.04162275686017858\n",
      "RMSE: 0.3523260058608479\n",
      "R^2: 0.0404438275359027\n",
      "RMSE: 0.3188423067884778\n",
      "R^2: -0.05142323520291092\n",
      "RMSE: 0.8941657697993558\n",
      "R^2: -0.07225739939235165\n",
      "RMSE: 0.835836902136351\n",
      "R^2: -0.01768441302226509\n",
      "RMSE: 0.31533235743301424\n",
      "R^2: -0.02126024029110818\n",
      "RMSE: 0.6433018162677749\n",
      "R^2: -0.07837045118130748\n",
      "RMSE: 0.3004942844722964\n",
      "R^2: 0.0011144572233146022\n",
      "RMSE: 0.5002166539004372\n",
      "R^2: -0.05950763051201924\n",
      "RMSE: 0.49068859585200125\n",
      "R^2: -0.039294904490623006\n",
      "RMSE: 0.8792086184562378\n",
      "R^2: -0.03863519241263025\n",
      "RMSE: 0.5247951993185174\n",
      "R^2: -0.055109778131254616\n",
      "RMSE: 0.6748113354021068\n",
      "R^2: -0.06726271263762973\n",
      "RMSE: 0.403404899319215\n",
      "R^2: -0.008389716250558843\n",
      "RMSE: 0.5566235925361152\n",
      "R^2: 0.0011098012885085717\n",
      "RMSE: 0.5919772788197755\n",
      "R^2: -0.04700308401023401\n",
      "RMSE: 0.25990815608408296\n",
      "R^2: 0.06394544310130879\n",
      "RMSE: 0.24370689041269564\n",
      "R^2: -0.16201065255712455\n",
      "RMSE: 0.2712231492379327\n",
      "R^2: -0.12322580105206549\n",
      "RMSE: 0.2671800459295113\n",
      "R^2: -0.07444752881861993\n",
      "RMSE: 0.4867523905801748\n",
      "R^2: -0.40073338521228274\n",
      "RMSE: 0.2583358689855817\n",
      "R^2: -0.1786598926497862\n",
      "RMSE: 0.28800093241804026\n",
      "R^2: -0.0014975502689587028\n",
      "RMSE: 0.4047204577534406\n",
      "R^2: -0.08304128256520471\n",
      "RMSE: 0.5521437266785734\n",
      "R^2: -0.09760699395333816\n",
      "RMSE: 0.7453751862533994\n",
      "R^2: -0.09556541638287963\n",
      "RMSE: 0.41565881520667525\n",
      "R^2: -0.12633130975640183\n",
      "RMSE: 0.22006270028770147\n",
      "R^2: -0.031134294875413193\n",
      "RMSE: 0.43492147150554794\n",
      "R^2: -0.297334158273711\n",
      "RMSE: 0.23808539908274742\n",
      "R^2: -0.15150687326932966\n",
      "RMSE: 0.48159841966738587\n",
      "R^2: -0.10786408574919482\n",
      "RMSE: 0.5350961883222082\n",
      "R^2: -0.0909863516998124\n",
      "RMSE: 0.3530289109314937\n",
      "R^2: -0.03589150532122498\n",
      "RMSE: 0.6081218605376925\n",
      "R^2: -0.08852146091147817\n",
      "RMSE: 0.5740819744535581\n",
      "R^2: -0.06718480494790824\n",
      "RMSE: 0.5292318966530263\n",
      "R^2: -0.07221191263275606\n",
      "RMSE: 0.731678036844685\n",
      "R^2: -0.016554076541793306\n",
      "RMSE: 0.9245245002870889\n",
      "R^2: -0.052386107598402676\n",
      "RMSE: 0.33677020690210363\n",
      "R^2: -0.05596639180304308\n",
      "RMSE: 0.3456164690822194\n",
      "R^2: -0.10420889944024592\n",
      "RMSE: 0.5718709059601649\n",
      "R^2: -0.09833528856556173\n",
      "RMSE: 0.4049428792280398\n",
      "R^2: -0.07998709104736146\n",
      "RMSE: 0.4264473360380703\n",
      "R^2: -0.06614840890074358\n",
      "RMSE: 0.39448868390743896\n",
      "R^2: -0.11332618549506113\n",
      "RMSE: 0.31591543444633935\n",
      "R^2: -0.037040967678579007\n",
      "RMSE: 0.5448519892880364\n",
      "R^2: -0.04534537790687421\n",
      "RMSE: 0.646715348415739\n",
      "R^2: -0.03167505396537118\n",
      "RMSE: 0.5632359631577866\n",
      "R^2: -0.05501991873509948\n",
      "RMSE: 0.551608453679167\n",
      "R^2: -0.12384644433783287\n",
      "RMSE: 0.30902738197268703\n",
      "R^2: -0.07068941046289678\n",
      "RMSE: 0.38426123556615344\n",
      "R^2: -0.23675584839739683\n",
      "RMSE: 0.3116507959079389\n",
      "R^2: -0.13843677046328473\n",
      "RMSE: 0.19367701449614227\n",
      "R^2: -0.12469733182317766\n",
      "RMSE: 0.2740824399208427\n",
      "R^2: -0.004053818223714645\n",
      "RMSE: 0.6892298430267622\n",
      "R^2: -0.14675796531605578\n",
      "RMSE: 0.4459286186393719\n",
      "R^2: -0.06744786726764707\n",
      "RMSE: 0.4996812476807819\n",
      "R^2: -0.14927683564569616\n",
      "RMSE: 0.36773630674941404\n",
      "R^2: -0.017259394203779088\n",
      "RMSE: 0.5622152912060666\n",
      "R^2: -0.08205974295108698\n",
      "RMSE: 0.6275040373526197\n",
      "R^2: -0.02623980709000251\n",
      "RMSE: 0.6629175160560734\n",
      "R^2: -0.0712312858405102\n",
      "RMSE: 0.5690134763022957\n",
      "R^2: -0.06774739653642081\n",
      "RMSE: 0.6547885235991172\n",
      "R^2: -0.01279042831207633\n",
      "RMSE: 0.39204237669285114\n",
      "R^2: -0.060773983766859496\n",
      "RMSE: 0.28914906342514934\n",
      "R^2: -0.15380052447750558\n",
      "RMSE: 0.42252007819867066\n",
      "R^2: -0.14434288000686268\n",
      "RMSE: 0.23875584384248463\n",
      "R^2: -0.024641791063779506\n",
      "RMSE: 0.3690873758520891\n",
      "R^2: -0.07311626063011856\n",
      "RMSE: 0.7252730321506288\n",
      "R^2: -0.0667270009923897\n",
      "RMSE: 0.7354298316495094\n",
      "R^2: -0.15440744631970582\n",
      "RMSE: 0.6365995815906308\n"
     ]
    },
    {
     "name": "stdout",
     "output_type": "stream",
     "text": [
      "R^2: -0.014071155381280676\n",
      "RMSE: 0.5100943066446708\n",
      "R^2: -0.09233917598515706\n",
      "RMSE: 0.6082498098142438\n",
      "R^2: -0.11139468541532382\n",
      "RMSE: 0.6397914442961042\n",
      "R^2: -0.17121587288915552\n",
      "RMSE: 0.19529887133736934\n",
      "R^2: -0.10159730424689206\n",
      "RMSE: 0.7189635615421949\n",
      "R^2: -0.12796124401812503\n",
      "RMSE: 0.23704075038161979\n",
      "R^2: -0.08488366900768063\n",
      "RMSE: 0.23013241287919697\n",
      "R^2: -0.017097509385443077\n",
      "RMSE: 0.42195954044631767\n",
      "R^2: -0.07804941317419178\n",
      "RMSE: 0.25359392640203293\n",
      "R^2: -0.05669865428723053\n",
      "RMSE: 0.32476664218682627\n",
      "R^2: -0.38296896255868984\n",
      "RMSE: 0.19420951403705672\n",
      "R^2: -0.021560455005350754\n",
      "RMSE: 0.4586089852179252\n",
      "R^2: -0.01433569189541628\n",
      "RMSE: 0.6880599639914251\n",
      "R^2: -0.03930917778631149\n",
      "RMSE: 0.4121595741648797\n",
      "R^2: -0.2569813083079042\n",
      "RMSE: 0.25290178397045737\n",
      "R^2: -0.09733426728184824\n",
      "RMSE: 0.28249978500804024\n",
      "R^2: -0.14642704256301786\n",
      "RMSE: 0.2363695273149422\n",
      "R^2: -0.028377457201581135\n",
      "RMSE: 0.6273448335595136\n",
      "R^2: -0.0361621303320514\n",
      "RMSE: 0.7598707047638983\n",
      "R^2: -0.14232002114205966\n",
      "RMSE: 0.27162247386335\n",
      "R^2: -0.15436261955863095\n",
      "RMSE: 0.22585434916511565\n",
      "R^2: -0.07463360428131915\n",
      "RMSE: 0.3950520314222612\n",
      "R^2: -0.08355928312150707\n",
      "RMSE: 0.7030138004328046\n",
      "R^2: -0.07198653406806832\n",
      "RMSE: 0.4771881647327699\n",
      "R^2: -0.7071475592389029\n",
      "RMSE: 0.139155066161726\n",
      "R^2: -0.06756682764172495\n",
      "RMSE: 0.21983459782314155\n",
      "R^2: -0.04915530270258106\n",
      "RMSE: 0.5061543600877803\n",
      "R^2: -0.07028268429507878\n",
      "RMSE: 0.35794459936559114\n",
      "R^2: -0.15829484278968042\n",
      "RMSE: 0.34120638057011515\n",
      "R^2: -0.04894092034880693\n",
      "RMSE: 0.3053696630244699\n",
      "R^2: -0.04056224957727261\n",
      "RMSE: 0.26775833134316057\n",
      "R^2: -0.03038108132413808\n",
      "RMSE: 0.5038759845100217\n",
      "R^2: -0.06084697159233743\n",
      "RMSE: 0.4395005417709401\n",
      "R^2: -0.0435798712271811\n",
      "RMSE: 0.40011154562708023\n",
      "R^2: 0.01649771467013106\n",
      "RMSE: 0.6875361416203835\n",
      "R^2: -0.22455255229611581\n",
      "RMSE: 0.304084910951315\n",
      "R^2: -0.08270408503811688\n",
      "RMSE: 0.247620573230442\n",
      "R^2: -0.09779101873920659\n",
      "RMSE: 0.6056602793085559\n",
      "R^2: -0.24649719503031586\n",
      "RMSE: 0.34254278916396064\n",
      "R^2: -0.05319382257323557\n",
      "RMSE: 0.7395520678019479\n",
      "R^2: -0.14368195390250804\n",
      "RMSE: 0.7578560120164451\n",
      "R^2: -0.07447020673556004\n",
      "RMSE: 0.7063218125329602\n",
      "R^2: -0.17498526167351414\n",
      "RMSE: 0.24238247272374236\n",
      "R^2: -0.03445104807459454\n",
      "RMSE: 0.4893218548782815\n",
      "R^2: -0.0754364831372889\n",
      "RMSE: 0.3276334391592139\n",
      "R^2: -0.159694960153693\n",
      "RMSE: 0.2753823243488394\n",
      "R^2: -0.04804425457124184\n",
      "RMSE: 0.2600373541174653\n"
     ]
    }
   ],
   "source": [
    "df = pd.read_csv('movieReplicationSet.csv')\n",
    "df_cleaned = df.fillna(df.median())\n",
    "df_np = pd.DataFrame(df_cleaned).to_numpy()\n",
    "\n",
    "x_8 = df_np[:,420:464]\n",
    "\n",
    "for i in range(400):\n",
    "    y_8 = df_np[:,i]\n",
    "    x_8_train,x_8_test,y_8_train,y_8_test = train_test_split(x_8,y_8,test_size=0.2,random_state=10)\n",
    "\n",
    "    regressor = LinearRegression()\n",
    "    regressor.fit(x_8_train,y_8_train)\n",
    "\n",
    "    y_8_prediction = regressor.predict(x_8_test)\n",
    "    print('R^2:',metrics.r2_score(y_8_test,y_8_prediction))\n",
    "    print('RMSE:',np.sqrt(metrics.mean_squared_error(y_8_test,y_8_prediction)))"
   ]
  },
  {
   "cell_type": "markdown",
   "metadata": {},
   "source": [
    "### Question 9: Build a prediction model of your choice (regression or supervised learning) to predict movie ratings (for all 400 movies) from gender identity, sibship status and social viewing preferences (columns 475-477) only. Make sure to use cross-validation methods to avoid overfitting and characterize the accuracy of your model."
   ]
  },
  {
   "cell_type": "code",
   "execution_count": 204,
   "metadata": {},
   "outputs": [],
   "source": [
    "x9 = df_np[:,474:477]\n",
    "y9 = df_np[:,0]"
   ]
  },
  {
   "cell_type": "code",
   "execution_count": 205,
   "metadata": {},
   "outputs": [
    {
     "name": "stdout",
     "output_type": "stream",
     "text": [
      "coefficient: [-0.04368926 -0.00088393 -0.00930794]\n",
      "intercept: 2.5354505093472572\n"
     ]
    }
   ],
   "source": [
    "model9 = LinearRegression().fit(x9,y9)\n",
    "rSqr9 = model9.score(x9,y9)\n",
    "b09, b19 = model9.intercept_, model9.coef_\n",
    "yHat9 = b19[0]*data[:,0] + b19[1]*data[:,1] + b19[2]*data[:,2] + b09\n",
    "print(\"coefficient:\",b19)\n",
    "print(\"intercept:\",b09)"
   ]
  },
  {
   "cell_type": "code",
   "execution_count": 206,
   "metadata": {},
   "outputs": [
    {
     "data": {
      "text/plain": [
       "Text(0.5, 1.0, 'R^2 = 0.004')"
      ]
     },
     "execution_count": 206,
     "metadata": {},
     "output_type": "execute_result"
    },
    {
     "data": {
      "image/png": "[encoded data removed]",
      "text/plain": [
       "<Figure size 432x288 with 1 Axes>"
      ]
     },
     "metadata": {
      "needs_background": "light"
     },
     "output_type": "display_data"
    }
   ],
   "source": [
    "plt.plot(yHat9,y9,'o',markersize=.75) \n",
    "plt.xlabel('Prediction from model') \n",
    "plt.ylabel('Actual income')  \n",
    "plt.title('R^2 = {:.3f}'.format(rSqr9))"
   ]
  },
  {
   "cell_type": "code",
   "execution_count": 207,
   "metadata": {},
   "outputs": [
    {
     "name": "stdout",
     "output_type": "stream",
     "text": [
      "R^2: -0.004070506418544883\n",
      "RMSE: 0.5145205888261973\n"
     ]
    }
   ],
   "source": [
    "x_9 = df_np[:,474:477]\n",
    "y_9 = df_np[:,:400]\n",
    "\n",
    "x_9_train,x_9_test,y_9_train,y_9_test = train_test_split(x_9,y_9,test_size=0.5)\n",
    "\n",
    "regressor = LinearRegression()\n",
    "regressor.fit(x_9_train,y_9_train)\n",
    "\n",
    "y_9_prediction = regressor.predict(x_9_test)\n",
    "print('R^2:',metrics.r2_score(y_9_test,y_9_prediction))\n",
    "print('RMSE:',np.sqrt(metrics.mean_squared_error(y_9_test,y_9_prediction)))"
   ]
  },
  {
   "cell_type": "markdown",
   "metadata": {},
   "source": [
    "### Question 10: Build a prediction model of your choice (regression or supervised learning) to predict movie ratings (for all 400 movies) from all available factors that are not movie ratings (columns 401- 477). Make sure to use cross-validation methods to avoid overfitting and characterize the accuracy of your model."
   ]
  },
  {
   "cell_type": "code",
   "execution_count": 259,
   "metadata": {},
   "outputs": [
    {
     "name": "stdout",
     "output_type": "stream",
     "text": [
      "R^2: -0.12049634996833632\n",
      "RMSE: 0.5617390318996187\n"
     ]
    }
   ],
   "source": [
    "x_10 = df_np[:,401:477]\n",
    "y_10 = df_np[:,:400]\n",
    "\n",
    "x_10_train,x_10_test,y_10_train,y_10_test = train_test_split(x_10,y_10,test_size=0.5)\n",
    "\n",
    "regressor = LinearRegression()\n",
    "regressor.fit(x_10_train,y_10_train)\n",
    "\n",
    "y_10_prediction = regressor.predict(x_10_test)\n",
    "print('R^2:',metrics.r2_score(y_10_test,y_10_prediction))\n",
    "print('RMSE:',np.sqrt(metrics.mean_squared_error(y_10_test,y_10_prediction)))"
   ]
  },
  {
   "cell_type": "markdown",
   "metadata": {},
   "source": [
    "## Extra credit: Tell us something interesting about this dataset that is not trivial and not already part of an answer (implied or explicitly) to these enumerated questions."
   ]
  },
  {
   "cell_type": "markdown",
   "metadata": {},
   "source": [
    "Can we find certain movies that different types of viewers prefer based on the data that represents \"senesation seeking\", \"personality\", \"movie experience\", Gender identity, Only Child or not, Social viewing preference?"
   ]
  }
 ],
 "metadata": {
  "kernelspec": {
   "display_name": "Python 3",
   "language": "python",
   "name": "python3"
  },
  "language_info": {
   "codemirror_mode": {
    "name": "ipython",
    "version": 3
   },
   "file_extension": ".py",
   "mimetype": "text/x-python",
   "name": "python",
   "nbconvert_exporter": "python",
   "pygments_lexer": "ipython3",
   "version": "3.7.6"
  }
 },
 "nbformat": 4,
 "nbformat_minor": 4
}
